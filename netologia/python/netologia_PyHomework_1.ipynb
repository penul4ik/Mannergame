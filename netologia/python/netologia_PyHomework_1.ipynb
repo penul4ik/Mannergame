{
 "cells": [
  {
   "cell_type": "code",
   "execution_count": null,
   "id": "d418ebb9-6c9d-42a4-87e5-edb15d3f8eaf",
   "metadata": {},
   "outputs": [],
   "source": [
    "import csv\n",
    "import json\n",
    "\n",
    "with open('purchase_log.txt', 'r', encoding='utf-8') as f:\n",
    "    next(f)\n",
    "    d = {}\n",
    "    for i in f:\n",
    "        tmp = {}\n",
    "        tmp = json.loads(i)\n",
    "        d.setdefault(tmp['user_id'],tmp['category'])\n",
    "#for k in d:\n",
    "#    print(k,d[k])\n",
    "\n",
    "with open('visit_log__2_.csv', 'r', encoding='utf-8') as f:\n",
    "    with open('funnel.csv', 'w', encoding='utf-8') as csvfile:\n",
    "        next(f)\n",
    "        spamreader = csv.reader(f, delimiter=' ', quotechar='|')\n",
    "        spamwriter = csv.writer(csvfile,delimiter=',', quotechar='|', quoting=csv.QUOTE_MINIMAL)\n",
    "        cnt = 0\n",
    "        for line in spamreader:\n",
    "            tmp = line[0].split(',')\n",
    "            lst = [tmp[0],tmp[1],d.get(tmp[0])]\n",
    "            print(*lst)\n",
    "            spamwriter.writerow([tmp[0],tmp[1],str(d.get(tmp[0]))])"
   ]
  }
 ],
 "metadata": {
  "kernelspec": {
   "display_name": "Python [conda env:base] *",
   "language": "python",
   "name": "conda-base-py"
  },
  "language_info": {
   "codemirror_mode": {
    "name": "ipython",
    "version": 3
   },
   "file_extension": ".py",
   "mimetype": "text/x-python",
   "name": "python",
   "nbconvert_exporter": "python",
   "pygments_lexer": "ipython3",
   "version": "3.13.5"
  }
 },
 "nbformat": 4,
 "nbformat_minor": 5
}
