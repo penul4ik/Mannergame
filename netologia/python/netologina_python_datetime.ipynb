{
 "cells": [
  {
   "cell_type": "code",
   "execution_count": 59,
   "id": "62884b0e-7efb-4c65-8c31-2400452113c2",
   "metadata": {},
   "outputs": [
    {
     "name": "stdout",
     "output_type": "stream",
     "text": [
      "Wednesday 2 October 2002 2002-10-02 00:00:00\n",
      "Friday 11 10 13 2013-10-11 00:00:00\n",
      "Thursday 18 August 1977 1977-08-18 00:00:00\n",
      "2022-01-01\n",
      "2022-01-02\n",
      "2022-01-03\n",
      "2022-01-04\n",
      "2022-01-05\n",
      "2022-01-06\n",
      "2022-01-07\n"
     ]
    }
   ],
   "source": [
    "from datetime import datetime as dt\n",
    "from datetime import timedelta\n",
    "\n",
    "msg = ['The Moscow Times - Wednesday, October 2, 2002', 'The Guardian - Friday, 11.10.13', 'Daily News - Thursday, 18 August 1977']\n",
    "\n",
    "tmp = []\n",
    "\n",
    "for x in msg:\n",
    "    tmp.append(x.split(' - '))\n",
    "\n",
    "dates = dict(tmp)\n",
    "\n",
    "formats = [\n",
    "    '%A %d %m %Y',\n",
    "    '%A %d %m %y',\n",
    "    '%A %d %b %Y',\n",
    "    '%A %d %b %y',\n",
    "    '%A %d %B %Y',\n",
    "    '%A %d %B %y',\n",
    "]\n",
    "\n",
    "for date in dates:\n",
    "    dates[date] = dates[date].replace(\", \", \"-\", 1).split('-')\n",
    "    dates[date][1] = dates[date][1].replace(\", \",\" \")\n",
    "    dates[date][1] = dates[date][1].replace(\".\",\" \").split(' ')\n",
    "    if dates[date][1][0].isalpha():\n",
    "        dates[date][1][0], dates[date][1][1] = dates[date][1][1], dates[date][1][0]\n",
    "    dates[date] = f\"{dates[date][0]} {dates[date][1][0]} {dates[date][1][1]} {dates[date][1][2]}\"\n",
    "    for fmt in formats:\n",
    "        try:\n",
    "            result = dt.strptime(dates[date],fmt)\n",
    "        except ValueError:\n",
    "            continue\n",
    "    print(dates[date], result)\n",
    "\n",
    "############################################################################################################\n",
    "\n",
    "date_range = ('2022-01-01', '2022-01-07')\n",
    "\n",
    "start_d = date_range[0]\n",
    "end_d = date_range[1]\n",
    "\n",
    "print(start_d)\n",
    "while start_d != end_d:\n",
    "    start_d = (dt.strptime(start_d, '%Y-%m-%d') + timedelta(days=1)).strftime('%Y-%m-%d')\n",
    "    print(start_d)\n",
    "    "
   ]
  }
 ],
 "metadata": {
  "kernelspec": {
   "display_name": "Python [conda env:base] *",
   "language": "python",
   "name": "conda-base-py"
  },
  "language_info": {
   "codemirror_mode": {
    "name": "ipython",
    "version": 3
   },
   "file_extension": ".py",
   "mimetype": "text/x-python",
   "name": "python",
   "nbconvert_exporter": "python",
   "pygments_lexer": "ipython3",
   "version": "3.13.5"
  }
 },
 "nbformat": 4,
 "nbformat_minor": 5
}
